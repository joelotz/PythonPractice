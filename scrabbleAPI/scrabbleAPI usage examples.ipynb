{
 "metadata": {
  "name": "scrabbleAPI usage examples"
 },
 "nbformat": 3,
 "nbformat_minor": 0,
 "worksheets": [
  {
   "cells": [
    {
     "cell_type": "raw",
     "metadata": {},
     "source": [
      "-------------------------------------------------------------------------------\n",
      "Filename   : scrabbleAPI_usage.ipnb\n",
      "Date       : 2013-04-20\n",
      "Author     : Joe Lotz <joelotz@gmail.com>\n",
      "Description: \n",
      "This is my attempt at building an API from a website. It utilizes web scraping, assumes an internet connect and access to http://www.scrabblefinder.com, scrabblefinder is authored by David Shimoda @scrabblefinder\n",
      "Please follow the first rule of web-scraping... Don't be a dick.\n",
      "\n",
      "Notes      : \n",
      "I built this to practice and learn building APIs to extend website functionality. It was directly inspired and motivated by Asheesh Laroia in his wonderful PyCon talks.(http://pyvideo.org/)\n",
      "\n",
      "SCRABBLE\u00ae is a registered trademark...duh\n",
      "-------------------------------------------------------------------------------"
     ]
    },
    {
     "cell_type": "code",
     "collapsed": false,
     "input": [
      "import scrabbleAPI as scrabble\n",
      "# https://github.com/joelotz/PythonPractice/blob/master/scrabbleAPI/scrabbleAPI.py"
     ],
     "language": "python",
     "metadata": {},
     "outputs": [],
     "prompt_number": 1
    },
    {
     "cell_type": "heading",
     "level": 3,
     "metadata": {},
     "source": [
      "Build a list with all three letter words"
     ]
    },
    {
     "cell_type": "code",
     "collapsed": false,
     "input": [
      "d = scrabble.threeletter()"
     ],
     "language": "python",
     "metadata": {},
     "outputs": [],
     "prompt_number": 9
    },
    {
     "cell_type": "code",
     "collapsed": false,
     "input": [
      "d[0:10]"
     ],
     "language": "python",
     "metadata": {},
     "outputs": [
      {
       "output_type": "pyout",
       "prompt_number": 10,
       "text": [
        "[u'aah',\n",
        " u'aal',\n",
        " u'aas',\n",
        " u'aba',\n",
        " u'abo',\n",
        " u'abs',\n",
        " u'aby',\n",
        " u'ace',\n",
        " u'act',\n",
        " u'add']"
       ]
      }
     ],
     "prompt_number": 10
    },
    {
     "cell_type": "heading",
     "level": 3,
     "metadata": {},
     "source": [
      "Build a dictionary of words ending in \"us\". The keys are word lengths."
     ]
    },
    {
     "cell_type": "code",
     "collapsed": false,
     "input": [
      "d2 = scrabble.endswith(\"us\")"
     ],
     "language": "python",
     "metadata": {},
     "outputs": [],
     "prompt_number": 11
    },
    {
     "cell_type": "code",
     "collapsed": false,
     "input": [
      "d2.keys()"
     ],
     "language": "python",
     "metadata": {},
     "outputs": [
      {
       "output_type": "pyout",
       "prompt_number": 12,
       "text": [
        "[3, 4, 5, 6, 7, 8, 9]"
       ]
      }
     ],
     "prompt_number": 12
    },
    {
     "cell_type": "heading",
     "level": 3,
     "metadata": {},
     "source": [
      "View words that end in \"us\" of length=3"
     ]
    },
    {
     "cell_type": "code",
     "collapsed": false,
     "input": [
      "d2[3]"
     ],
     "language": "python",
     "metadata": {},
     "outputs": [
      {
       "output_type": "pyout",
       "prompt_number": 13,
       "text": [
        "[u'Bus', u'Jus', u'Mus', u'Nus', u'Pus']"
       ]
      }
     ],
     "prompt_number": 13
    },
    {
     "cell_type": "heading",
     "level": 3,
     "metadata": {},
     "source": [
      "The same can be done with single function. Here, build list of words ending in \"us\" of length 3"
     ]
    },
    {
     "cell_type": "code",
     "collapsed": false,
     "input": [
      "scrabble.endswith(letters=\"us\",size=3)"
     ],
     "language": "python",
     "metadata": {},
     "outputs": [
      {
       "output_type": "pyout",
       "prompt_number": 14,
       "text": [
        "[u'Bus', u'Jus', u'Mus', u'Nus', u'Pus']"
       ]
      }
     ],
     "prompt_number": 14
    },
    {
     "cell_type": "heading",
     "level": 3,
     "metadata": {},
     "source": [
      "You can also pass in an existing word list, here 'd' is a list of three letter words. Return a list from d of words ending in \"us\"."
     ]
    },
    {
     "cell_type": "code",
     "collapsed": false,
     "input": [
      "scrabble.endswith(letters=\"us\",words=d)"
     ],
     "language": "python",
     "metadata": {},
     "outputs": [
      {
       "output_type": "pyout",
       "prompt_number": 15,
       "text": [
        "[u'bus', u'jus', u'mus', u'nus', u'pus']"
       ]
      }
     ],
     "prompt_number": 15
    }
   ],
   "metadata": {}
  }
 ]
}