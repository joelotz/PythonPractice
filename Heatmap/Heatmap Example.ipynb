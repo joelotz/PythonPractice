{
 "metadata": {
  "name": "Heatmap Example"
 },
 "nbformat": 3,
 "nbformat_minor": 0,
 "worksheets": [
  {
   "cells": [
    {
     "cell_type": "code",
     "collapsed": false,
     "input": "import requests\nimport numpy as np\nimport matplotlib.pyplot as plt\nimport pandas as pd\nfrom urllib import urlopen",
     "language": "python",
     "metadata": {},
     "outputs": [],
     "prompt_number": 68
    },
    {
     "cell_type": "code",
     "collapsed": false,
     "input": "#url = \"http://datasets.flowingdata.com/ppg2008.csv\"\n#r = requests.get(url)\n#with open(\"ppg2008.csv\", \"wb\") as code:\n#    code.write(r.content)",
     "language": "python",
     "metadata": {},
     "outputs": [],
     "prompt_number": 69
    },
    {
     "cell_type": "code",
     "collapsed": false,
     "input": "#data = np.genfromtxt(\"C:\\Program Files (x86)\\Git\\ppg2008.csv\",dtype=float,delimiter=',',skip_header=1,usecols=range(1,21))",
     "language": "python",
     "metadata": {},
     "outputs": [],
     "prompt_number": 64
    },
    {
     "cell_type": "code",
     "collapsed": false,
     "input": "#page = urlopen(\"http://datasets.flowingdata.com/ppg2008.csv\")\n#df = read_csv(page)",
     "language": "python",
     "metadata": {},
     "outputs": [],
     "prompt_number": 72
    },
    {
     "cell_type": "code",
     "collapsed": false,
     "input": "data3 = pd.read_csv(\"C:\\Program Files (x86)\\Git\\ppg2008.csv\")",
     "language": "python",
     "metadata": {},
     "outputs": [],
     "prompt_number": 74
    },
    {
     "cell_type": "code",
     "collapsed": false,
     "input": "fig, ax = plt.subplots()\nheatmap = ax.pcolor(data) #, cmap=plt.cm.Blues)",
     "language": "python",
     "metadata": {},
     "outputs": [
      {
       "output_type": "display_data",
       "png": "[encoded data removed]"
      }
     ],
     "prompt_number": 67
    },
    {
     "cell_type": "code",
     "collapsed": false,
     "input": "data3",
     "language": "python",
     "metadata": {},
     "outputs": [
      {
       "output_type": "pyout",
       "prompt_number": 75,
       "text": "<class 'pandas.core.frame.DataFrame'>\nInt64Index: 50 entries, 0 to 49\nData columns:\nName      50  non-null values\nG         50  non-null values\nMIN       50  non-null values\nPTS       50  non-null values\nFGM       50  non-null values\nFGA       50  non-null values\nFGP       50  non-null values\nFTM       50  non-null values\nFTA       50  non-null values\nFTP       50  non-null values\n3PM       50  non-null values\n3PA       50  non-null values\n3PP       50  non-null values\nORB       50  non-null values\nDRB       50  non-null values\nTRB       50  non-null values\nAST       50  non-null values\nSTL       50  non-null values\nBLK       50  non-null values\nTO        50  non-null values\nPF        50  non-null values\ndtypes: float64(19), int64(1), object(1)"
      }
     ],
     "prompt_number": 75
    },
    {
     "cell_type": "code",
     "collapsed": false,
     "input": "data2 = np.random.rand(4,4)\nfig, ax = plt.subplots()\nheatmap = ax.pcolor(data2, cmap=plt.cm.Blues)\ndata2",
     "language": "python",
     "metadata": {},
     "outputs": [
      {
       "output_type": "pyout",
       "prompt_number": 36,
       "text": "array([[ 0.59679938,  0.24362377,  0.36298658,  0.82984409],\n       [ 0.32662736,  0.14122387,  0.98914661,  0.20620091],\n       [ 0.72673   ,  0.00985522,  0.0340469 ,  0.07416749],\n       [ 0.17969533,  0.57909328,  0.85160151,  0.05976577]])"
      },
      {
       "output_type": "display_data",
       "png": "[encoded data removed]"
      }
     ],
     "prompt_number": 36
    },
    {
     "cell_type": "code",
     "collapsed": false,
     "input": "",
     "language": "python",
     "metadata": {},
     "outputs": []
    }
   ],
   "metadata": {}
  }
 ]
}